{
 "cells": [
  {
   "cell_type": "markdown",
   "id": "05eb64fb",
   "metadata": {},
   "source": [
    "## Variables and Datatypes in python"
   ]
  },
  {
   "cell_type": "markdown",
   "id": "d347de3a",
   "metadata": {},
   "source": [
    "1.In this section we will see variables and datatypes in python.\n",
    "\n",
    "2.Variables are basically to store the any kind of data in specific address in memory.\n",
    "\n",
    "3.We have several data types, Int, float, string, Complex, None, Boolean"
   ]
  },
  {
   "cell_type": "code",
   "execution_count": 22,
   "id": "d316848a",
   "metadata": {},
   "outputs": [
    {
     "name": "stdout",
     "output_type": "stream",
     "text": [
      "<class 'int'>\n"
     ]
    }
   ],
   "source": [
    "#Declare the variable and store some value inside it\n",
    "#Variable holds the data in python\n",
    "a = 10\n",
    "print(type(a)) #Type is integere since  variable a holdes integer value"
   ]
  },
  {
   "cell_type": "code",
   "execution_count": 17,
   "id": "820eadad",
   "metadata": {},
   "outputs": [
    {
     "name": "stdout",
     "output_type": "stream",
     "text": [
      "<class 'str'>\n"
     ]
    }
   ],
   "source": [
    "#String datatype\n",
    "s = 'vij'\n",
    "print(type(s)) #Type is string"
   ]
  },
  {
   "cell_type": "code",
   "execution_count": 23,
   "id": "9c430dac",
   "metadata": {},
   "outputs": [
    {
     "name": "stdout",
     "output_type": "stream",
     "text": [
      "<class 'float'>\n"
     ]
    }
   ],
   "source": [
    "#Float datatype\n",
    "f = 1.6\n",
    "print(type(f)) #Type is float"
   ]
  },
  {
   "cell_type": "code",
   "execution_count": 18,
   "id": "c0a3cb6a",
   "metadata": {},
   "outputs": [
    {
     "name": "stdout",
     "output_type": "stream",
     "text": [
      "<class 'complex'>\n"
     ]
    }
   ],
   "source": [
    "#Complex data type\n",
    "a = 4+5j\n",
    "print(type(a)) #This is complex number. its real and imaginary part. "
   ]
  },
  {
   "cell_type": "code",
   "execution_count": 19,
   "id": "d0367a9f",
   "metadata": {},
   "outputs": [
    {
     "name": "stdout",
     "output_type": "stream",
     "text": [
      "<class 'bool'>\n"
     ]
    }
   ],
   "source": [
    "#Boolean datatype\n",
    "E = True\n",
    "print(type(E))"
   ]
  },
  {
   "cell_type": "code",
   "execution_count": 20,
   "id": "c3ad41be",
   "metadata": {},
   "outputs": [
    {
     "name": "stdout",
     "output_type": "stream",
     "text": [
      "1\n"
     ]
    }
   ],
   "source": [
    "print(True + False)"
   ]
  },
  {
   "cell_type": "code",
   "execution_count": 21,
   "id": "092a015f",
   "metadata": {},
   "outputs": [
    {
     "name": "stdout",
     "output_type": "stream",
     "text": [
      "<class 'NoneType'>\n"
     ]
    }
   ],
   "source": [
    "#None data type\n",
    "g = None\n",
    "print(type(g))\n"
   ]
  },
  {
   "cell_type": "code",
   "execution_count": 24,
   "id": "820b08ac",
   "metadata": {},
   "outputs": [
    {
     "name": "stdout",
     "output_type": "stream",
     "text": [
      "94720136161480\n"
     ]
    }
   ],
   "source": [
    "#Will check in which address 10 is stored\n",
    "a = 10\n",
    "print(id(a))"
   ]
  },
  {
   "cell_type": "code",
   "execution_count": null,
   "id": "ef9a67fe",
   "metadata": {},
   "outputs": [
    {
     "name": "stdout",
     "output_type": "stream",
     "text": [
      "94720136161480\n"
     ]
    }
   ],
   "source": [
    "#a and b is the reffering to the same location\n",
    "#id is function which we can use to chec k the memory location of perticular value\n",
    "b=a\n",
    "print(id(b))"
   ]
  },
  {
   "cell_type": "markdown",
   "id": "4b4c7195",
   "metadata": {},
   "source": [
    "## Type conversion"
   ]
  },
  {
   "cell_type": "code",
   "execution_count": 27,
   "id": "e3210696",
   "metadata": {},
   "outputs": [
    {
     "name": "stdout",
     "output_type": "stream",
     "text": [
      "<class 'float'>\n",
      "10 <class 'int'>\n"
     ]
    }
   ],
   "source": [
    "a = 10.8\n",
    "print(type(a))\n",
    "i = int(a)\n",
    "print(i, type(i))"
   ]
  },
  {
   "cell_type": "code",
   "execution_count": 29,
   "id": "3dab97dc",
   "metadata": {},
   "outputs": [
    {
     "name": "stdout",
     "output_type": "stream",
     "text": [
      "<class 'str'>\n",
      "10\n",
      "10.0\n",
      "(10+0j)\n"
     ]
    }
   ],
   "source": [
    "b = '10'\n",
    "print(type(b))\n",
    "print(int(b))\n",
    "print(float(b))\n",
    "print(complex(b))"
   ]
  },
  {
   "cell_type": "code",
   "execution_count": null,
   "id": "4828da49",
   "metadata": {},
   "outputs": [
    {
     "ename": "ValueError",
     "evalue": "invalid literal for int() with base 10: 'python'",
     "output_type": "error",
     "traceback": [
      "\u001b[31m---------------------------------------------------------------------------\u001b[39m",
      "\u001b[31mValueError\u001b[39m                                Traceback (most recent call last)",
      "\u001b[36mCell\u001b[39m\u001b[36m \u001b[39m\u001b[32mIn[30]\u001b[39m\u001b[32m, line 2\u001b[39m\n\u001b[32m      1\u001b[39m p = \u001b[33m'\u001b[39m\u001b[33mpython\u001b[39m\u001b[33m'\u001b[39m\n\u001b[32m----> \u001b[39m\u001b[32m2\u001b[39m \u001b[38;5;28;43mint\u001b[39;49m\u001b[43m(\u001b[49m\u001b[43mp\u001b[49m\u001b[43m)\u001b[49m\n",
      "\u001b[31mValueError\u001b[39m: invalid literal for int() with base 10: 'python'"
     ]
    }
   ],
   "source": [
    "p = 'python'\n",
    "int(p) #Basically we can not convert string or text  which is non number to another datatype"
   ]
  },
  {
   "cell_type": "code",
   "execution_count": 31,
   "id": "efc78b7e",
   "metadata": {},
   "outputs": [],
   "source": [
    "import math\n"
   ]
  },
  {
   "cell_type": "code",
   "execution_count": 32,
   "id": "0325f945",
   "metadata": {},
   "outputs": [
    {
     "data": {
      "text/plain": [
       "3.141592653589793"
      ]
     },
     "execution_count": 32,
     "metadata": {},
     "output_type": "execute_result"
    }
   ],
   "source": [
    "math.pi"
   ]
  },
  {
   "cell_type": "code",
   "execution_count": 33,
   "id": "3c979cb1",
   "metadata": {},
   "outputs": [
    {
     "data": {
      "text/plain": [
       "-0.7568024953079282"
      ]
     },
     "execution_count": 33,
     "metadata": {},
     "output_type": "execute_result"
    }
   ],
   "source": [
    "math.sin(4)"
   ]
  },
  {
   "cell_type": "code",
   "execution_count": 34,
   "id": "de277f2c",
   "metadata": {},
   "outputs": [
    {
     "data": {
      "text/plain": [
       "3"
      ]
     },
     "execution_count": 34,
     "metadata": {},
     "output_type": "execute_result"
    }
   ],
   "source": [
    "math.floor(math.pi)"
   ]
  }
 ],
 "metadata": {
  "kernelspec": {
   "display_name": "Python 3",
   "language": "python",
   "name": "python3"
  },
  "language_info": {
   "codemirror_mode": {
    "name": "ipython",
    "version": 3
   },
   "file_extension": ".py",
   "mimetype": "text/x-python",
   "name": "python",
   "nbconvert_exporter": "python",
   "pygments_lexer": "ipython3",
   "version": "3.12.1"
  }
 },
 "nbformat": 4,
 "nbformat_minor": 5
}
