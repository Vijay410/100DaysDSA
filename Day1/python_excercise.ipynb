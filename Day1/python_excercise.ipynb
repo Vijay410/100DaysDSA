{
 "cells": [
  {
   "cell_type": "markdown",
   "id": "85349a69",
   "metadata": {},
   "source": [
    "## Solving Assignments on Variable and Datatype concepts"
   ]
  },
  {
   "cell_type": "markdown",
   "id": "d7b2472d",
   "metadata": {},
   "source": [
    "### Part 1: Variables and Memory Allocation"
   ]
  },
  {
   "cell_type": "markdown",
   "id": "18c24dd6",
   "metadata": {},
   "source": [
    "### Exercise 1.1: Memory Exploration"
   ]
  },
  {
   "cell_type": "code",
   "execution_count": null,
   "id": "61d404d6",
   "metadata": {},
   "outputs": [
    {
     "name": "stdout",
     "output_type": "stream",
     "text": [
      "10\n",
      "<class 'int'>\n"
     ]
    }
   ],
   "source": [
    "# 1. Create variables of different types (int, float, string, list, tuple).\n",
    "\n",
    "#create variable for integer datatype\n",
    "a = 10 # 10 is integer\n",
    "print(a) #Print the value that holds in variable a\n",
    "print(type(a)) #check what datatype is a\n",
    "\n"
   ]
  },
  {
   "cell_type": "code",
   "execution_count": 3,
   "id": "61a14049",
   "metadata": {},
   "outputs": [
    {
     "name": "stdout",
     "output_type": "stream",
     "text": [
      "10.6\n",
      "<class 'float'>\n"
     ]
    }
   ],
   "source": [
    "#Example for float datayp[e]\n",
    "b = 10.6  \n",
    "print(b) # Print value of b\n",
    "print(type(b)) #Print type of data"
   ]
  },
  {
   "cell_type": "code",
   "execution_count": 4,
   "id": "7fa38911",
   "metadata": {},
   "outputs": [
    {
     "name": "stdout",
     "output_type": "stream",
     "text": [
      "abcd\n",
      "<class 'str'>\n"
     ]
    }
   ],
   "source": [
    "#String data type\n",
    "s = \"abcd\" #If the data within the quotes that is considered as string in python\n",
    "print(s) #prnit the value\n",
    "print(type(s)) #print the what type of data"
   ]
  },
  {
   "cell_type": "code",
   "execution_count": 6,
   "id": "7002325c",
   "metadata": {},
   "outputs": [
    {
     "name": "stdout",
     "output_type": "stream",
     "text": [
      "[]\n",
      "<class 'list'>\n",
      "[1, 2, 3, 4, 5]\n",
      "<class 'list'>\n"
     ]
    }
   ],
   "source": [
    "#List datatype\n",
    "#List is mutable datatype in python and  stores values for multiple datatype in it\n",
    "a = [] #List represent by []\n",
    "print(a)\n",
    "print(type(a))\n",
    "\n",
    "l = [1,2,3,4,5]\n",
    "print(l)\n",
    "print(type(l))"
   ]
  },
  {
   "cell_type": "code",
   "execution_count": 9,
   "id": "97185276",
   "metadata": {},
   "outputs": [
    {
     "name": "stdout",
     "output_type": "stream",
     "text": [
      "()\n",
      "<class 'tuple'>\n",
      "()\n",
      "(1, 2, 3, 4, 5)\n"
     ]
    }
   ],
   "source": [
    "#Tuple datatype\n",
    "\n",
    "#Tuple is immutable datatype. Tuple will be created in python using () \n",
    "t = ()\n",
    "print(t)\n",
    "print(type(t))\n",
    "\n",
    "tp = tuple() #use inbuilt method to create empty tuple\n",
    "print(tp)\n",
    "\n",
    "fp = (1,2,3,4,5)\n",
    "print(fp)"
   ]
  },
  {
   "cell_type": "code",
   "execution_count": 16,
   "id": "04ee21a4",
   "metadata": {},
   "outputs": [
    {
     "name": "stdout",
     "output_type": "stream",
     "text": [
      "94603741145448\n",
      "94603741145608\n"
     ]
    }
   ],
   "source": [
    "# 2. Print the ID (memory address) of each variable using the id() function.\n",
    "\n",
    "a = 15\n",
    "b = 20\n",
    "\n",
    "\n",
    "\n",
    "print(id(a))\n",
    "print(id(b))\n"
   ]
  },
  {
   "cell_type": "code",
   "execution_count": 18,
   "id": "90b4354d",
   "metadata": {},
   "outputs": [
    {
     "name": "stdout",
     "output_type": "stream",
     "text": [
      "94603741145448\n",
      "94603741145448\n"
     ]
    }
   ],
   "source": [
    "b=a\n",
    "print(id(b))\n",
    "a=b\n",
    "print(id(a))"
   ]
  }
 ],
 "metadata": {
  "kernelspec": {
   "display_name": "Python 3",
   "language": "python",
   "name": "python3"
  },
  "language_info": {
   "codemirror_mode": {
    "name": "ipython",
    "version": 3
   },
   "file_extension": ".py",
   "mimetype": "text/x-python",
   "name": "python",
   "nbconvert_exporter": "python",
   "pygments_lexer": "ipython3",
   "version": "3.12.1"
  }
 },
 "nbformat": 4,
 "nbformat_minor": 5
}
