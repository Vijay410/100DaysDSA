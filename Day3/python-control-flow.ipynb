{
 "cells": [
  {
   "cell_type": "markdown",
   "id": "2588f8bd",
   "metadata": {},
   "source": [
    "### Python Control-Flow Statements\n",
    "\n",
    "1. In python we have different types of control flow statements such as if, elif, else.\n",
    "2. if, elif, and else are decision-making statements. They let your code take different actions based on different conditions.\n",
    "\n",
    "\n"
   ]
  },
  {
   "cell_type": "markdown",
   "id": "7c503af3",
   "metadata": {},
   "source": [
    "## If Statement\n",
    "\n",
    "1. If statment used to check the condition. If the condition is True then the block of code will execute.\n",
    "2. If the condition is False the perticular block of code will not execute. That means it will skip that block.\n"
   ]
  },
  {
   "cell_type": "code",
   "execution_count": 3,
   "id": "cb137fe8",
   "metadata": {},
   "outputs": [],
   "source": [
    "x = 5 #Lets say x is 5\n",
    "if x > 5:\n",
    "    print(\"x is greater than 5\")\n",
    "\n",
    "#Here output will be nothing  because x is 5 so its not greater than 5.\n"
   ]
  },
  {
   "cell_type": "code",
   "execution_count": null,
   "id": "412863c3",
   "metadata": {},
   "outputs": [
    {
     "name": "stdout",
     "output_type": "stream",
     "text": [
      "x is greater than and equal to 5\n"
     ]
    }
   ],
   "source": [
    "x = 5 #Lets say x is 5\n",
    "if x >= 5: \n",
    "    print(\"x is greater than and equal to 5\")"
   ]
  },
  {
   "cell_type": "code",
   "execution_count": 6,
   "id": "887d6bbc",
   "metadata": {},
   "outputs": [],
   "source": [
    "x = 5 #Lets say x is 5\n",
    "if x < 5:\n",
    "    print(\"x is less than 5\")"
   ]
  },
  {
   "cell_type": "code",
   "execution_count": null,
   "id": "113e2d05",
   "metadata": {},
   "outputs": [
    {
     "name": "stdout",
     "output_type": "stream",
     "text": [
      "x is less than 5\n"
     ]
    }
   ],
   "source": [
    "x = 5 #Lets say x is 5\n",
    "if x <= 5:\n",
    "    print(\"x is less than and equal 5\")"
   ]
  },
  {
   "cell_type": "code",
   "execution_count": 8,
   "id": "42ceccf8",
   "metadata": {},
   "outputs": [],
   "source": [
    "a = 5\n",
    "b = 6\n",
    "if a > b:\n",
    "    print(\"Yes\")"
   ]
  },
  {
   "cell_type": "markdown",
   "id": "9b4932e6",
   "metadata": {},
   "source": [
    "### Use If and Else both in code\n",
    "\n",
    "Else will be executed when the if condition is not True. Will see with examples "
   ]
  },
  {
   "cell_type": "code",
   "execution_count": 10,
   "id": "962b408d",
   "metadata": {},
   "outputs": [
    {
     "name": "stdout",
     "output_type": "stream",
     "text": [
      "Hello Alice x is not greater than or equal to y\n"
     ]
    }
   ],
   "source": [
    "x = 10\n",
    "y = 20\n",
    "if x >=y:\n",
    "    #Checking x is really greater than or equal to y. \n",
    "    print(\"Hello Alice x is greater thean equal to y\")\n",
    "else:\n",
    "    #This else block will execute when the if condition is False\n",
    "    print(\"Hello Alice x is not greater than or equal to y\")"
   ]
  },
  {
   "cell_type": "markdown",
   "id": "b421840d",
   "metadata": {},
   "source": [
    "### 3. if-elif-else Statement\n",
    "\n",
    "1. elif: we can also call as else if. This elif condition we use wen we want to check for an multiple conditions"
   ]
  },
  {
   "cell_type": "code",
   "execution_count": 16,
   "id": "6f87adc0",
   "metadata": {},
   "outputs": [
    {
     "name": "stdout",
     "output_type": "stream",
     "text": [
      "x is equal to 5\n"
     ]
    }
   ],
   "source": [
    "x = 5\n",
    "\n",
    "if x > 5:\n",
    "    print(\"x is greater than 5\")\n",
    "elif x == 5:\n",
    "    print(\"x is equal to 5\")\n",
    "else:\n",
    "    print(\"x is less than 5\")\n"
   ]
  },
  {
   "cell_type": "code",
   "execution_count": 17,
   "id": "657569cf",
   "metadata": {},
   "outputs": [
    {
     "name": "stdout",
     "output_type": "stream",
     "text": [
      "Grade: B\n"
     ]
    }
   ],
   "source": [
    "score = 87\n",
    "\n",
    "if score >= 90:\n",
    "    print(\"Grade: A\")\n",
    "elif score >= 80:\n",
    "    print(\"Grade: B\")\n",
    "elif score >= 70:\n",
    "    print(\"Grade: C\")\n",
    "else:\n",
    "    print(\"Grade: D or F\")\n"
   ]
  }
 ],
 "metadata": {
  "kernelspec": {
   "display_name": "Python 3",
   "language": "python",
   "name": "python3"
  },
  "language_info": {
   "codemirror_mode": {
    "name": "ipython",
    "version": 3
   },
   "file_extension": ".py",
   "mimetype": "text/x-python",
   "name": "python",
   "nbconvert_exporter": "python",
   "pygments_lexer": "ipython3",
   "version": "3.12.1"
  }
 },
 "nbformat": 4,
 "nbformat_minor": 5
}
