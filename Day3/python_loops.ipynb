{
 "cells": [
  {
   "cell_type": "markdown",
   "id": "3e0e532d",
   "metadata": {},
   "source": [
    "## Python loops\n",
    "\n",
    "1. Python has two main loops\n",
    "    1. for loop : For loop used to itertare over sequence like (List, Tuple, Strings,Dict.)\n",
    "    2. While loop: Works based on Condition. Used when you want to iterate on data as long as the condtion is satisfied."
   ]
  },
  {
   "cell_type": "code",
   "execution_count": 1,
   "id": "0696b359",
   "metadata": {},
   "outputs": [
    {
     "name": "stdout",
     "output_type": "stream",
     "text": [
      "apple\n",
      "banana\n",
      "cherry\n"
     ]
    }
   ],
   "source": [
    "#for loop\n",
    "fruits = [\"apple\", \"banana\", \"cherry\"]\n",
    "for fruit in fruits:\n",
    "    print(fruit)"
   ]
  },
  {
   "cell_type": "code",
   "execution_count": 2,
   "id": "1e064def",
   "metadata": {},
   "outputs": [
    {
     "name": "stdout",
     "output_type": "stream",
     "text": [
      "0\n",
      "1\n",
      "2\n",
      "3\n",
      "4\n"
     ]
    }
   ],
   "source": [
    "for i in range(5):\n",
    "    print(i)"
   ]
  },
  {
   "cell_type": "markdown",
   "id": "c9c5fea7",
   "metadata": {},
   "source": [
    "🔹 2. while Loop\n",
    "\n",
    "Used when you don’t know in advance how many times to loop, but you want to keep looping until a condition becomes False."
   ]
  },
  {
   "cell_type": "code",
   "execution_count": 7,
   "id": "c371378b",
   "metadata": {},
   "outputs": [
    {
     "name": "stdout",
     "output_type": "stream",
     "text": [
      "1\n",
      "2\n",
      "3\n",
      "4\n",
      "5\n"
     ]
    }
   ],
   "source": [
    "i = 1\n",
    "while i <= 5:\n",
    "    print(i)\n",
    "    i += 1\n"
   ]
  },
  {
   "cell_type": "code",
   "execution_count": 9,
   "id": "bf53607d",
   "metadata": {},
   "outputs": [
    {
     "name": "stdout",
     "output_type": "stream",
     "text": [
      "20\n"
     ]
    }
   ],
   "source": [
    "numbers = [2,4,6,8,9,10]\n",
    "i = 0\n",
    "tot = 0\n",
    "\n",
    "while tot < 15 and i < len(numbers):\n",
    "    tot += numbers[i]\n",
    "    i += 1\n",
    "print(tot)"
   ]
  },
  {
   "cell_type": "code",
   "execution_count": 13,
   "id": "ce186c38",
   "metadata": {},
   "outputs": [
    {
     "name": "stdout",
     "output_type": "stream",
     "text": [
      "2 1\n",
      "6 2\n",
      "12 3\n",
      "20 4\n",
      "Total: 20\n"
     ]
    }
   ],
   "source": [
    "numbers = [2,4,6,8,9,10]\n",
    "i = 0\n",
    "total = 0\n",
    "\n",
    "while total < 15 and i < len(numbers):\n",
    "    \n",
    "    total += numbers[i]\n",
    "    i += 1\n",
    "    print(total, i)\n",
    "\n",
    "print(\"Total:\", total)\n"
   ]
  }
 ],
 "metadata": {
  "kernelspec": {
   "display_name": "Python 3",
   "language": "python",
   "name": "python3"
  },
  "language_info": {
   "codemirror_mode": {
    "name": "ipython",
    "version": 3
   },
   "file_extension": ".py",
   "mimetype": "text/x-python",
   "name": "python",
   "nbconvert_exporter": "python",
   "pygments_lexer": "ipython3",
   "version": "3.12.1"
  }
 },
 "nbformat": 4,
 "nbformat_minor": 5
}
