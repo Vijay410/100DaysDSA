{
 "cells": [
  {
   "cell_type": "markdown",
   "id": "21fc62bf",
   "metadata": {},
   "source": [
    "## List DataStruture\n",
    "\n",
    "1. A **list** in Python is a built-in data type used to store multiple items in a single variable. Lists are ordered, mutable (changeable), and allow duplicate values.\n"
   ]
  },
  {
   "cell_type": "code",
   "execution_count": 1,
   "id": "37a5fac8",
   "metadata": {},
   "outputs": [],
   "source": [
    "#Create a list\n",
    "l = []\n",
    "\n"
   ]
  },
  {
   "cell_type": "code",
   "execution_count": 2,
   "id": "10d0c401",
   "metadata": {},
   "outputs": [
    {
     "data": {
      "text/plain": [
       "list"
      ]
     },
     "execution_count": 2,
     "metadata": {},
     "output_type": "execute_result"
    }
   ],
   "source": [
    "type(l)"
   ]
  },
  {
   "cell_type": "code",
   "execution_count": 3,
   "id": "b69cfa3b",
   "metadata": {},
   "outputs": [
    {
     "name": "stdout",
     "output_type": "stream",
     "text": [
      "[1, 2, 3, 4, 5]\n",
      "[1, 'Hello', 3.14, True]\n"
     ]
    }
   ],
   "source": [
    "# Creating a simple list\n",
    "my_list = [1, 2, 3, 4, 5]\n",
    "print(my_list)\n",
    "\n",
    "# A list with mixed data types\n",
    "mixed_list = [1, \"Hello\", 3.14, True]\n",
    "print(mixed_list)\n"
   ]
  },
  {
   "cell_type": "markdown",
   "id": "31f85423",
   "metadata": {},
   "source": [
    "🔹 Accessing List Elements"
   ]
  },
  {
   "cell_type": "code",
   "execution_count": 4,
   "id": "cba68dbb",
   "metadata": {},
   "outputs": [
    {
     "name": "stdout",
     "output_type": "stream",
     "text": [
      "1\n",
      "5\n",
      "[2, 3, 4]\n"
     ]
    }
   ],
   "source": [
    "# Indexing\n",
    "print(my_list[0])  # First element\n",
    "print(my_list[-1]) # Last element\n",
    "\n",
    "# Slicing\n",
    "print(my_list[1:4])  # From index 1 to 3\n"
   ]
  },
  {
   "cell_type": "markdown",
   "id": "227ef2ee",
   "metadata": {},
   "source": [
    "🔹 Modifying Lists"
   ]
  },
  {
   "cell_type": "code",
   "execution_count": 6,
   "id": "2c205e95",
   "metadata": {},
   "outputs": [
    {
     "name": "stdout",
     "output_type": "stream",
     "text": [
      "before modifying:[10, 2, 3, 4, 5]\n",
      "[10, 2, 3, 10, 5]\n",
      "After modifying:[10, 2, 3, 10, 5]\n"
     ]
    }
   ],
   "source": [
    "print(f\"before modifying:{my_list}\")\n",
    "my_list[0] = 10\n",
    "my_list[3] = 10\n",
    "\n",
    "print(my_list)\n",
    "print(f\"After modifying:{my_list}\")"
   ]
  },
  {
   "cell_type": "code",
   "execution_count": null,
   "id": "f2e9d73b",
   "metadata": {},
   "outputs": [
    {
     "name": "stdout",
     "output_type": "stream",
     "text": [
      "[10, 2, 3, 10, 5, 20]\n"
     ]
    }
   ],
   "source": [
    "#Append operation: This just append the item to last index\n",
    "my_list.append(20)\n",
    "print(my_list)\n"
   ]
  },
  {
   "cell_type": "code",
   "execution_count": null,
   "id": "0331e2d3",
   "metadata": {},
   "outputs": [
    {
     "name": "stdout",
     "output_type": "stream",
     "text": [
      "[10, 2, 30, 30, 3, 10, 5, 20]\n"
     ]
    }
   ],
   "source": [
    "#Insert the data: Insert takes position and value. Insert will insert the data into perticular provided position\n",
    "my_list.insert(2,30)\n",
    "print(my_list)"
   ]
  },
  {
   "cell_type": "code",
   "execution_count": 12,
   "id": "3c4ce31f",
   "metadata": {},
   "outputs": [
    {
     "name": "stdout",
     "output_type": "stream",
     "text": [
      "Before extend the new list: [10, 2, 30, 30, 3, 10, 5, 20, 100, 200, 300, 100, 200, 300]\n",
      "After extend the new list: [10, 2, 30, 30, 3, 10, 5, 20, 100, 200, 300, 100, 200, 300, 100, 200, 300]\n"
     ]
    }
   ],
   "source": [
    "#Extend operation\n",
    "print(f\"Before extend the new list: {my_list}\")\n",
    "new_list = [100,200,300]\n",
    "my_list.extend(new_list)\n",
    "print(f\"After extend the new list: {my_list}\")\n"
   ]
  },
  {
   "cell_type": "code",
   "execution_count": 15,
   "id": "b4226f4f",
   "metadata": {},
   "outputs": [
    {
     "name": "stdout",
     "output_type": "stream",
     "text": [
      "[10, 2, 30, 10, 5, 20, 100, 200, 300, 100, 200, 300, 100, 200, 300]\n"
     ]
    }
   ],
   "source": [
    "#Pop function: Which helps to remove the data from list\n",
    "my_list.pop(3)\n",
    "print(my_list)\n"
   ]
  },
  {
   "cell_type": "code",
   "execution_count": 16,
   "id": "37f28507",
   "metadata": {},
   "outputs": [
    {
     "name": "stdout",
     "output_type": "stream",
     "text": [
      "[10, 30, 10, 5, 20, 100, 200, 300, 100, 200, 300, 100, 200, 300]\n"
     ]
    }
   ],
   "source": [
    "#Remove method\n",
    "my_list.remove(2)\n",
    "print(my_list)"
   ]
  },
  {
   "cell_type": "code",
   "execution_count": 18,
   "id": "80fade50",
   "metadata": {},
   "outputs": [
    {
     "data": {
      "text/plain": [
       "3"
      ]
     },
     "execution_count": 18,
     "metadata": {},
     "output_type": "execute_result"
    }
   ],
   "source": [
    "my_list.count(100)"
   ]
  },
  {
   "cell_type": "markdown",
   "id": "b4e5d553",
   "metadata": {},
   "source": [
    "📝 Understanding Assignment, Shallow Copy, and Deep Copy in Python Lists"
   ]
  },
  {
   "cell_type": "code",
   "execution_count": 27,
   "id": "8b4bd159",
   "metadata": {},
   "outputs": [
    {
     "name": "stdout",
     "output_type": "stream",
     "text": [
      "a: [1, 2, 3, 4]\n",
      "b: [1, 2, 3, 4]\n",
      "ID of a: 126444250161280\n",
      "ID of b: 126444250161280\n"
     ]
    }
   ],
   "source": [
    "# Initial setup\n",
    "a = 1\n",
    "b = [1, 2, 3, 4]\n",
    "\n",
    "# Assign list b to a\n",
    "a = b\n",
    "\n",
    "# Both a and b now reference the same list object\n",
    "print(\"a:\", a)\n",
    "print(\"b:\", b)\n",
    "print(\"ID of a:\", id(a))  # Same memory location\n",
    "print(\"ID of b:\", id(b))\n"
   ]
  },
  {
   "cell_type": "markdown",
   "id": "054fdfd6",
   "metadata": {},
   "source": [
    "🔁 Modifying List b"
   ]
  },
  {
   "cell_type": "code",
   "execution_count": 28,
   "id": "c46ab633",
   "metadata": {},
   "outputs": [
    {
     "name": "stdout",
     "output_type": "stream",
     "text": [
      "Modified b: ['All', 2, 3, 4]\n",
      "a after modifying b: ['All', 2, 3, 4]\n"
     ]
    }
   ],
   "source": [
    "# Modify the first element of b\n",
    "b[0] = 'All'\n",
    "\n",
    "# Check contents of both a and b\n",
    "print(\"Modified b:\", b)\n",
    "print(\"a after modifying b:\", a)"
   ]
  },
  {
   "cell_type": "markdown",
   "id": "e8b98662",
   "metadata": {},
   "source": [
    "🔍 Observation:\n",
    "Even though we only modified b, a also reflects the change.\n",
    "Why? Because both a and b point to the same list in memory.\n",
    "This is a result of assignment (reference copy), not a deep copy."
   ]
  },
  {
   "cell_type": "markdown",
   "id": "2e5400ed",
   "metadata": {},
   "source": [
    "🧪 Creating a Shallow Copy"
   ]
  },
  {
   "cell_type": "code",
   "execution_count": 29,
   "id": "9ee6a680",
   "metadata": {},
   "outputs": [
    {
     "name": "stdout",
     "output_type": "stream",
     "text": [
      "Shallow copy c: ['All', 2, 3, 4]\n",
      "Original list a: ['All', 2, 3, 4]\n",
      "ID of c: 126444263739712\n",
      "ID of a: 126444250161280\n"
     ]
    }
   ],
   "source": [
    "# Create a shallow copy of a\n",
    "c = a.copy()\n",
    "\n",
    "print(\"Shallow copy c:\", c)\n",
    "print(\"Original list a:\", a)\n",
    "print(\"ID of c:\", id(c))  # Different memory location\n",
    "print(\"ID of a:\", id(a))\n"
   ]
  },
  {
   "cell_type": "markdown",
   "id": "c5224a28",
   "metadata": {},
   "source": [
    "🔁 Modify a After Shallow Copy"
   ]
  },
  {
   "cell_type": "code",
   "execution_count": 30,
   "id": "5c069426",
   "metadata": {},
   "outputs": [
    {
     "name": "stdout",
     "output_type": "stream",
     "text": [
      "Shallow copy c (unchanged): ['All', 2, 3, 4]\n",
      "Modified a: ['None', 2, 3, 4]\n"
     ]
    }
   ],
   "source": [
    "# Change the first element of a\n",
    "a[0] = 'None'\n",
    "\n",
    "# Check contents again\n",
    "print(\"Shallow copy c (unchanged):\", c)\n",
    "print(\"Modified a:\", a)\n"
   ]
  },
  {
   "cell_type": "markdown",
   "id": "883fdef2",
   "metadata": {},
   "source": [
    "🔍 Observation:\n",
    "Modifying a does not affect c, as they are now two independent objects in memory.\n",
    "This behavior is known as a shallow copy."
   ]
  }
 ],
 "metadata": {
  "kernelspec": {
   "display_name": "Python 3",
   "language": "python",
   "name": "python3"
  },
  "language_info": {
   "codemirror_mode": {
    "name": "ipython",
    "version": 3
   },
   "file_extension": ".py",
   "mimetype": "text/x-python",
   "name": "python",
   "nbconvert_exporter": "python",
   "pygments_lexer": "ipython3",
   "version": "3.12.1"
  }
 },
 "nbformat": 4,
 "nbformat_minor": 5
}
