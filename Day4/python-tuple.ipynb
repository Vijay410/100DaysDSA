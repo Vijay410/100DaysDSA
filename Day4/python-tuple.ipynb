{
 "cells": [
  {
   "cell_type": "markdown",
   "id": "ef1c837f",
   "metadata": {},
   "source": [
    "📘 Python Tuples - A Complete Guide"
   ]
  },
  {
   "cell_type": "markdown",
   "id": "885edb37",
   "metadata": {},
   "source": [
    "A **tuple** in Python is an immutable, ordered collection of elements.  \n",
    "Once created, the elements of a tuple **cannot be changed**, which makes it useful for storing **constant data**.\n"
   ]
  },
  {
   "cell_type": "markdown",
   "id": "d0404727",
   "metadata": {},
   "source": [
    "🔹 Creating a Tuple"
   ]
  },
  {
   "cell_type": "code",
   "execution_count": 1,
   "id": "e96e9d5c",
   "metadata": {},
   "outputs": [
    {
     "name": "stdout",
     "output_type": "stream",
     "text": [
      "(1, 2, 3)\n",
      "(1, 'hello', 3.14, True)\n"
     ]
    }
   ],
   "source": [
    "# A simple tuple\n",
    "my_tuple = (1, 2, 3)\n",
    "print(my_tuple)\n",
    "\n",
    "# Tuple with mixed data types\n",
    "mixed_tuple = (1, \"hello\", 3.14, True)\n",
    "print(mixed_tuple)\n",
    "\n"
   ]
  },
  {
   "cell_type": "code",
   "execution_count": 4,
   "id": "709acd15",
   "metadata": {},
   "outputs": [
    {
     "name": "stdout",
     "output_type": "stream",
     "text": [
      "(5,) <class 'tuple'>\n"
     ]
    }
   ],
   "source": [
    "# Tuple with one element (note the comma!)\n",
    "single_element = (5,)\n",
    "print(single_element, type(single_element))"
   ]
  },
  {
   "cell_type": "markdown",
   "id": "3614036e",
   "metadata": {},
   "source": [
    "🔹 Accessing Tuple Elements"
   ]
  },
  {
   "cell_type": "code",
   "execution_count": 6,
   "id": "220655f7",
   "metadata": {},
   "outputs": [
    {
     "name": "stdout",
     "output_type": "stream",
     "text": [
      "1\n",
      "3\n",
      "(2, 3)\n"
     ]
    }
   ],
   "source": [
    "# Indexing\n",
    "print(my_tuple[0])   # First element\n",
    "print(my_tuple[-1])  # Last element\n",
    "\n",
    "# Slicing\n",
    "print(my_tuple[1:])  # From index 1 to end\n"
   ]
  },
  {
   "cell_type": "markdown",
   "id": "7450cee1",
   "metadata": {},
   "source": [
    "🔹 Tuple is Immutable"
   ]
  },
  {
   "cell_type": "code",
   "execution_count": 7,
   "id": "5efbe901",
   "metadata": {},
   "outputs": [
    {
     "name": "stdout",
     "output_type": "stream",
     "text": [
      "Error: 'tuple' object does not support item assignment\n"
     ]
    }
   ],
   "source": [
    "# Trying to modify a tuple (will raise an error)\n",
    "try:\n",
    "    my_tuple[0] = 10\n",
    "except TypeError as e:\n",
    "    print(\"Error:\", e)\n"
   ]
  },
  {
   "cell_type": "markdown",
   "id": "a6b5f3d0",
   "metadata": {},
   "source": [
    "🔹 Tuple Packing and Unpacking"
   ]
  },
  {
   "cell_type": "code",
   "execution_count": 9,
   "id": "23ebb506",
   "metadata": {},
   "outputs": [
    {
     "name": "stdout",
     "output_type": "stream",
     "text": [
      "1 3\n"
     ]
    }
   ],
   "source": [
    "a = 1,3\n",
    "x, y = a\n",
    "print(x,y)"
   ]
  },
  {
   "cell_type": "markdown",
   "id": "41195288",
   "metadata": {},
   "source": [
    "🔹 Tuple Methods"
   ]
  },
  {
   "cell_type": "markdown",
   "id": "7dee6abe",
   "metadata": {},
   "source": []
  },
  {
   "cell_type": "code",
   "execution_count": 10,
   "id": "025b9342",
   "metadata": {},
   "outputs": [
    {
     "name": "stdout",
     "output_type": "stream",
     "text": [
      "3\n",
      "3\n"
     ]
    }
   ],
   "source": [
    "sample = (1, 2, 2, 3, 4, 2)\n",
    "\n",
    "# Count the occurrences of a value\n",
    "print(sample.count(2))\n",
    "\n",
    "# Find the index of a value\n",
    "print(sample.index(3))\n"
   ]
  }
 ],
 "metadata": {
  "kernelspec": {
   "display_name": "Python 3",
   "language": "python",
   "name": "python3"
  },
  "language_info": {
   "codemirror_mode": {
    "name": "ipython",
    "version": 3
   },
   "file_extension": ".py",
   "mimetype": "text/x-python",
   "name": "python",
   "nbconvert_exporter": "python",
   "pygments_lexer": "ipython3",
   "version": "3.12.1"
  }
 },
 "nbformat": 4,
 "nbformat_minor": 5
}
