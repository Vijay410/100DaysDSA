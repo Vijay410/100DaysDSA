{
 "cells": [
  {
   "cell_type": "markdown",
   "id": "a8a7a82b",
   "metadata": {},
   "source": [
    "#### Python Data Structures & Comprehension Assignments -EURON"
   ]
  },
  {
   "cell_type": "markdown",
   "id": "be8cee1f",
   "metadata": {},
   "source": [
    "##### Lists: Creation, Methods, Slicing, Nesting "
   ]
  },
  {
   "cell_type": "code",
   "execution_count": 2,
   "id": "07833b6d",
   "metadata": {},
   "outputs": [
    {
     "name": "stdout",
     "output_type": "stream",
     "text": [
      "[1, 2, 3, 4, 5]\n"
     ]
    }
   ],
   "source": [
    "# 1. Create a list of 10 integers and print the first 5 elements.\n",
    "l = [1,2,3,4,5,6,7,8,9,10]\n",
    "\n",
    "#print first 5 elements: Use index method\n",
    "first_five_elemets = l[:5]\n",
    "print(first_five_elemets)"
   ]
  },
  {
   "cell_type": "markdown",
   "id": "e2de6fcf",
   "metadata": {},
   "source": [
    "1.In this above example. Used indexing technique and pritning the first 5 elements of list.\n",
    "\n",
    "2.[:5]: starts from first elemtns exclude the last element i.e 6.\n"
   ]
  },
  {
   "cell_type": "code",
   "execution_count": 15,
   "id": "66dd13cf",
   "metadata": {},
   "outputs": [
    {
     "name": "stdout",
     "output_type": "stream",
     "text": [
      "Years list before append operation: [2000, 2001, 2003, 2004, 2005]\n",
      "Years list after append operation: [2000, 2001, 2003, 2004, 2005, 2006]\n",
      "Years list after remove operation: [2000, 2001, 2004, 2005, 2006]\n"
     ]
    }
   ],
   "source": [
    "# 2. Write a program to append and remove elements from a list\n",
    "\n",
    "# Create the initial list\n",
    "years = [2000, 2001, 2003, 2004, 2005]\n",
    "\n",
    "# Perform the append operation\n",
    "# Append the year 2006 to the 'years' list\n",
    "print(f\"Years list before append operation: {years}\")\n",
    "years.append(2006)\n",
    "print(f\"Years list after append operation: {years}\")\n",
    "\n",
    "# Perform the remove operation\n",
    "# Remove the year 2003 from the 'years' list\n",
    "years.remove(2003)\n",
    "print(f\"Years list after remove operation: {years}\")  # Year 2003 is removed from the list\n"
   ]
  },
  {
   "cell_type": "code",
   "execution_count": 16,
   "id": "b529feca",
   "metadata": {},
   "outputs": [
    {
     "name": "stdout",
     "output_type": "stream",
     "text": [
      "Original list: [1, 2, 3, 4, 5]\n",
      "Reversed list using slicing: [5, 4, 3, 2, 1]\n"
     ]
    }
   ],
   "source": [
    "# 3. Demonstrate list slicing by reversing a list using slicing\n",
    "\n",
    "# Original list\n",
    "n = [1, 2, 3, 4, 5]\n",
    "\n",
    "# Reverse the list using slicing [start:stop:step]\n",
    "# Here, step = -1 means traverse the list in reverse order\n",
    "reversed_list = n[::-1]\n",
    "\n",
    "print(f\"Original list: {n}\")\n",
    "print(f\"Reversed list using slicing: {reversed_list}\")\n"
   ]
  },
  {
   "cell_type": "code",
   "execution_count": 14,
   "id": "b3eca79c",
   "metadata": {},
   "outputs": [
    {
     "name": "stdout",
     "output_type": "stream",
     "text": [
      "[2020, 2021]\n",
      "2020\n",
      "2021\n",
      "2022\n",
      "2023\n"
     ]
    }
   ],
   "source": [
    "# 4. Create a nested list and access a specific inner element\n",
    "# type: ignore\n",
    "\n",
    "# A nested list is a list that contains other lists as its elements\n",
    "nested_list = [[2020, 2021], [2022, 2023]]\n",
    "\n",
    "# Access the elements from the nested list\n",
    "print(nested_list[0])      # Accesses the first sublist: [2020, 2021]\n",
    "print(nested_list[0][0])   # Accesses the first element of the first sublist: 2020\n",
    "print(nested_list[0][1])   # Accesses the second element of the first sublist: 2021\n",
    "print(nested_list[1][0])   # Accesses the first element of the second sublist: 2022\n",
    "print(nested_list[1][1])   # Accesses the second element of the second sublist: 2023\n"
   ]
  },
  {
   "cell_type": "code",
   "execution_count": 20,
   "id": "9a6264e5",
   "metadata": {},
   "outputs": [
    {
     "name": "stdout",
     "output_type": "stream",
     "text": [
      "List of numbers: [12, 45, 23, 67, 34, 89, 2, 10]\n",
      "Maximum value: 89\n",
      "Minimum value: 2\n"
     ]
    }
   ],
   "source": [
    "# 5. Find the maximum and minimum value from a list without using max/min\n",
    "\n",
    "# Sample list\n",
    "numbers = [12, 45, 23, 67, 34, 89, 2, 10]\n",
    "\n",
    "# Initialize max_value and min_value with the first element of the list\n",
    "max_value = numbers[0]\n",
    "min_value = numbers[0]\n",
    "\n",
    "\n",
    "# Loop through the list to find max and min manually\n",
    "for num in numbers:\n",
    "    if num > max_value:\n",
    "        max_value = num\n",
    "    if num < min_value:\n",
    "        min_value = num\n",
    "\n",
    "# Print the results\n",
    "print(f\"List of numbers: {numbers}\")\n",
    "print(f\"Maximum value: {max_value}\")\n",
    "print(f\"Minimum value: {min_value}\")\n"
   ]
  },
  {
   "cell_type": "code",
   "execution_count": 30,
   "id": "46e56481",
   "metadata": {},
   "outputs": [
    {
     "name": "stdout",
     "output_type": "stream",
     "text": [
      "Flattened list using loops: [12, 45, 23, 67, 34, 89, 2, 10]\n",
      "Flattened list using list comprehension: [12, 45, 23, 67, 34, 89, 2, 10]\n"
     ]
    }
   ],
   "source": [
    "# 6. Flatten a nested list using loops\n",
    "\n",
    "# Original nested list\n",
    "numbers = [[12, 45], [23, 67], [34, 89], [2, 10]]\n",
    "\n",
    "# Method 1: Using nested loops\n",
    "flattened_list = []\n",
    "for sublist in numbers:\n",
    "    for item in sublist:\n",
    "        flattened_list.append(item)\n",
    "\n",
    "print(f\"Flattened list using loops: {flattened_list}\")\n",
    "\n",
    "# Method 2: Using list comprehension\n",
    "flattened_list_comp = [item for sublist in numbers for item in sublist]\n",
    "print(f\"Flattened list using list comprehension: {flattened_list_comp}\")\n"
   ]
  }
 ],
 "metadata": {
  "kernelspec": {
   "display_name": "Python 3",
   "language": "python",
   "name": "python3"
  },
  "language_info": {
   "codemirror_mode": {
    "name": "ipython",
    "version": 3
   },
   "file_extension": ".py",
   "mimetype": "text/x-python",
   "name": "python",
   "nbconvert_exporter": "python",
   "pygments_lexer": "ipython3",
   "version": "3.12.1"
  }
 },
 "nbformat": 4,
 "nbformat_minor": 5
}
