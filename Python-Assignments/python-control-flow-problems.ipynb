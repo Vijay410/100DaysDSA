{
 "cells": [
  {
   "cell_type": "markdown",
   "id": "c19287eb",
   "metadata": {},
   "source": [
    "#### Control-Flow based python problems.\n",
    "\n"
   ]
  },
  {
   "cell_type": "markdown",
   "id": "7af5e70d",
   "metadata": {},
   "source": [
    "## Beginner Level Problems"
   ]
  },
  {
   "cell_type": "markdown",
   "id": "598d127d",
   "metadata": {},
   "source": [
    "**1**. Even or Odd"
   ]
  },
  {
   "cell_type": "markdown",
   "id": "2bd07ba1",
   "metadata": {},
   "source": [
    "1. Write a program that asks the user for a number and prints whether it is even or odd # type: ignore"
   ]
  },
  {
   "cell_type": "code",
   "execution_count": 5,
   "id": "8f0a9d4b",
   "metadata": {},
   "outputs": [
    {
     "name": "stdout",
     "output_type": "stream",
     "text": [
      "Provided number 3 is odd.\n"
     ]
    }
   ],
   "source": [
    "# Inbuilt input function to take input from user\n",
    "# I am using an exception handling to check if the input is a number or not\n",
    "try:\n",
    "    user_input = int(input(\"Enter a number: \"))\n",
    "    \n",
    "    # Check if the input is divisible by 2\n",
    "    if (user_input % 2) == 0:\n",
    "        print(f\"Provided number {user_input} is even.\")\n",
    "    else:\n",
    "        print(f\"Provided number {user_input} is odd.\")\n",
    "except ValueError:\n",
    "    print(\"Invalid input! Please enter a valid integer.\")\n"
   ]
  },
  {
   "cell_type": "markdown",
   "id": "8299d8d1",
   "metadata": {},
   "source": [
    "2. Temperature Converter\n",
    "Create a program that converts temperatures between Fahrenheit and Celsius. Ask the user which \n",
    "conversion they want to perform (\"F to C\" or \"C to F\") and then perform the selected conversion.\n",
    "\n",
    "Solution:\n",
    "    1. Create two seperate functions for C to F and F to C conversion.\n",
    "    2. Take the user input for type of conversion.\n",
    "    3. Take the input for temp.\n",
    "    4. Call the the respective function for converion"
   ]
  },
  {
   "cell_type": "code",
   "execution_count": null,
   "id": "dd1efc54",
   "metadata": {},
   "outputs": [
    {
     "name": "stdout",
     "output_type": "stream",
     "text": [
      "32.0 Celsius is equal to 89.6 Fahrenheit\n"
     ]
    }
   ],
   "source": [
    "def celsius_to_fahrenheit(celsius):\n",
    "    \"\"\"\n",
    "    Convert Celsius to Fahrenheit\n",
    "    :param celsius: Temperature in Celsius\n",
    "    :return: Temperature in Fahrenheit\n",
    "    \"\"\"\n",
    "    return (celsius * 9/5) + 32\n",
    "\n",
    "def fahrenheit_to_celsius(fahrenheit):\n",
    "    \"\"\"\n",
    "    Convert Fahrenheit to Celsius\n",
    "    :param fahrenheit: Temperature in Fahrenheit\n",
    "    :return: Temperature in Celsius\n",
    "    \"\"\"\n",
    "    return (fahrenheit - 32) * 5/9\n",
    "\n",
    "def temprature_converter():\n",
    "    choise = input(\"Enter 'C' to convert Celsius to Fahrenheit or 'F' to convert Fahrenheit to Celsius: \").upper()\n",
    "    if choise == 'C':\n",
    "        celsius = float(input(\"Enter temperature in Celsius: \"))\n",
    "        fahrenheit = celsius_to_fahrenheit(celsius)\n",
    "        print(f\"{celsius} Celsius is equal to {fahrenheit} Fahrenheit\")\n",
    "    elif choise == 'F':\n",
    "        fahrenheit = float(input(\"Enter temperature in Fahrenheit: \"))\n",
    "        celsius = fahrenheit_to_celsius(fahrenheit)\n",
    "        print(f\"{fahrenheit} Fahrenheit is equal to {celsius} Celsius\")\n",
    "    else:\n",
    "        print(\"Invalid choice! Please enter 'C' or 'F'.\")\n",
    "temprature_converter()"
   ]
  },
  {
   "cell_type": "markdown",
   "id": "66371f26",
   "metadata": {
    "tags": [
     "parameters"
    ]
   },
   "source": [
    "## 3. Grade Classifier\n",
    "Write a program that takes a numerical grade (0-100) and outputs the corresponding letter grade:\n",
    "\n",
    " A: 90-100\n",
    "\n",
    " B: 80-89\n",
    "\n",
    " C: 70-79\n",
    "\n",
    " D: 60-69\n",
    "\n",
    " F: 0-59"
   ]
  },
  {
   "cell_type": "code",
   "execution_count": null,
   "id": "f6d86607",
   "metadata": {},
   "outputs": [
    {
     "name": "stdout",
     "output_type": "stream",
     "text": [
      "Student grade is A\n"
     ]
    }
   ],
   "source": [
    "grade = {\"A\":[90, 100], \n",
    "         \"B\":[80, 89], \n",
    "         \"C\":[70, 79], \n",
    "         \"D\":[60, 69], \n",
    "         \"F\":[0, 59]\n",
    "        }\n",
    "        \n",
    "student_percetage = input(\"Enter your percentage: \").replace(\"%\", \"\")\n",
    "for key, value in grade.items():\n",
    "    if value[0] <= int(student_percetage) <= value[1]:\n",
    "        print(f\"Student grade is {key}\")\n",
    "        break\n",
    "\n"
   ]
  },
  {
   "cell_type": "markdown",
   "id": "8cfad416",
   "metadata": {},
   "source": [
    "5. Age Group Classifier\n",
    "Write a program that asks for a person's age and classifies them as:\n",
    "\n",
    " Child (0-12)\n",
    "\n",
    " Teenager (13-19)\n",
    "\n",
    " Adult (20-64)\n",
    "\n",
    " Senior (65+)\n"
   ]
  },
  {
   "cell_type": "code",
   "execution_count": 8,
   "id": "6d061c7b",
   "metadata": {},
   "outputs": [
    {
     "name": "stdout",
     "output_type": "stream",
     "text": [
      "Your age category is: Adult\n"
     ]
    }
   ],
   "source": [
    "def get_age_category(age):\n",
    "    if age is None:\n",
    "        return \"Age not provided\"\n",
    "    elif age < 0:\n",
    "        return \"Invalid age\"\n",
    "    elif age < 13:\n",
    "        return \"Child\"\n",
    "    elif age >=13 and age <= 19:\n",
    "        return \"Teenager\"\n",
    "    elif age >= 20 and age <= 64:\n",
    "        return \"Adult\"\n",
    "    else:\n",
    "        return \"Senior\"\n",
    "    \n",
    "def finde_age_category():\n",
    "    age = int(input(\"Enter your age: \"))\n",
    "    try:\n",
    "        category = get_age_category(age)\n",
    "        print(f\"Your age category is: {category}\")\n",
    "    except ValueError:\n",
    "        print(\"Invalid input! Please enter a valid integer for age.\")\n",
    "\n",
    "finde_age_category()"
   ]
  },
  {
   "cell_type": "code",
   "execution_count": null,
   "id": "5a0eb456",
   "metadata": {},
   "outputs": [
    {
     "name": "stdout",
     "output_type": "stream",
     "text": [
      "You are classified as: Child\n"
     ]
    }
   ],
   "source": [
    "# We can also solve thease kind of problem using dictionary by making buckets for each age group \n",
    "age_group = {\n",
    "    \"Child\": [0, 12],\n",
    "    \"Teenager\": [13, 19],\n",
    "    \"Adult\": [20, 64],\n",
    "    \"Senior\": [65, 120]\n",
    "}\n",
    "age = int(input(\"Enter your age: \"))\n",
    "for group, age_range in age_group.items():\n",
    "    if age_range[0] <= age <= age_range[1]:\n",
    "        print(f\"You are classified as: {group}\")\n"
   ]
  },
  {
   "cell_type": "code",
   "execution_count": 7,
   "id": "19701c26",
   "metadata": {},
   "outputs": [
    {
     "name": "stdout",
     "output_type": "stream",
     "text": [
      "🎬 Welcome to the Movie Ticket Price Calculator!\n",
      "Your ticket price is: $12\n"
     ]
    }
   ],
   "source": [
    "def get_ticket_price(age):\n",
    "    if 0 <= age <= 12:\n",
    "        return 5\n",
    "    elif 13 <= age <= 17:\n",
    "        return 8\n",
    "    elif 18 <= age <= 64:\n",
    "        return 12\n",
    "    elif age >= 65:\n",
    "        return 7\n",
    "    else:\n",
    "        return None  # Invalid age\n",
    "\n",
    "def main():\n",
    "    print(\"🎬 Welcome to the Movie Ticket Price Calculator!\")\n",
    "\n",
    "    try:\n",
    "        age = int(input(\"Please enter your age: \"))\n",
    "\n",
    "        price = get_ticket_price(age)\n",
    "        if price is not None:\n",
    "            print(f\"Your ticket price is: ${price}\")\n",
    "        else:\n",
    "            print(\"Invalid age. Please enter a valid age (0 or above).\")\n",
    "\n",
    "    except ValueError:\n",
    "        print(\"Invalid input! Please enter a numeric age.\")\n",
    "\n",
    "# Run the program\n",
    "main()\n"
   ]
  },
  {
   "cell_type": "markdown",
   "id": "3a62e303",
   "metadata": {},
   "source": [
    "#### Intermidiate Level Problems"
   ]
  },
  {
   "cell_type": "markdown",
   "id": "83810e47",
   "metadata": {},
   "source": [
    "1.BMI Calculator with Categories\n",
    "\n",
    "Create a BMI (Body Mass Index) calculator that takes height (in meters) and weight (in \n",
    "kilograms) and categorizes the result as:\n",
    " Underweight: <18.5\n",
    "\n",
    " Normal weight: 18.5-24.9\n",
    "\n",
    " Overweight: 25-29.9\n",
    "\n",
    " Obesity: ≥30"
   ]
  },
  {
   "cell_type": "code",
   "execution_count": 9,
   "id": "29a7f69c",
   "metadata": {},
   "outputs": [
    {
     "name": "stdout",
     "output_type": "stream",
     "text": [
      "Your BMI is: 2.91\n",
      "Your body mass category is: Underweight\n"
     ]
    }
   ],
   "source": [
    "def body_mass_category(bmi: float):\n",
    "    \"\"\"\n",
    "    Determine the body mass category based on BMI.\"\"\"\n",
    "    if bmi is None:\n",
    "        return \"BMI not provided\"\n",
    "    if bmi < 0:\n",
    "        return \"Invalid BMI\"\n",
    "    elif bmi < 18.5:\n",
    "        return \"Underweight\"\n",
    "    elif 18.5 <= bmi < 24.9:\n",
    "        return \"Normal weight\"\n",
    "    elif 25 <= bmi < 29.9:\n",
    "        return \"Overweight\"\n",
    "    else:\n",
    "        return \"Obesity\"\n",
    "\n",
    "\n",
    "def calculate_bmi():\n",
    "    \"\"\"\n",
    "    Calculate BMI based on weight and height.\"\"\"\n",
    "    try:\n",
    "        weight = float(input(\"Enter your weight in kg: \"))\n",
    "        height = float(input(\"Enter your height in meters: \"))\n",
    "        if weight <= 0 or height <= 0:\n",
    "            print(\"Weight and height must be positive numbers.\")\n",
    "            return\n",
    "        bmi = weight / (height ** 2)\n",
    "        category = body_mass_category(bmi)\n",
    "        print(f\"Your BMI is: {bmi:.2f}\")\n",
    "        print(f\"Your body mass category is: {category}\")\n",
    "    except ValueError:\n",
    "        print(\"Invalid input! Please enter numeric values for weight and height.\")\n",
    "calculate_bmi()"
   ]
  },
  {
   "cell_type": "markdown",
   "id": "2a68da6d",
   "metadata": {},
   "source": [
    "### 2.  Password Strength Checker\n",
    "2.1 Write a program that evaluates password strength based on:\n",
    "1. Length (at least 8 characters)\n",
    "2. Contains uppercase letters\n",
    "3. Contains lowercase letters\n",
    "4. Contains numbers\n",
    "5. Contains special characters Use nested if statements to check each condition and provide \n",
    "6. rating (weak, medium, strong).\n"
   ]
  },
  {
   "cell_type": "code",
   "execution_count": null,
   "id": "e4a8af75",
   "metadata": {},
   "outputs": [
    {
     "name": "stdout",
     "output_type": "stream",
     "text": [
      "🔒 Password Strength Checker\n",
      "Password strength: Weak (Password too short)\n"
     ]
    }
   ],
   "source": [
    "import string\n",
    "\n",
    "def check_password_strength(password):\n",
    "    special_characters = string.punctuation\n",
    "\n",
    "    if len(password) >= 8:\n",
    "        if any(char.islower() for char in password):\n",
    "            if any(char.isupper() for char in password):\n",
    "                if any(char.isdigit() for char in password):\n",
    "                    if any(char in special_characters for char in password):\n",
    "                        return \"Strong\"\n",
    "                    else:\n",
    "                        return \"Medium (Add special character)\"\n",
    "                else:\n",
    "                    return \"Medium (Add number)\"\n",
    "            else:\n",
    "                return \"Weak (Add uppercase letter)\"\n",
    "        else:\n",
    "            return \"Weak (Add lowercase letter)\"\n",
    "    else:\n",
    "        return \"Weak (Password too short)\"\n",
    "\n",
    "# Driver code\n",
    "def main():\n",
    "    print(\"🔒 Password Strength Checker\")\n",
    "    password = input(\"Enter your password: \")\n",
    "    strength = check_password_strength(password)\n",
    "    print(f\"Password strength: {strength}\")\n",
    "\n",
    "# Run the program\n",
    "main()\n",
    "\n"
   ]
  }
 ],
 "metadata": {
  "kernelspec": {
   "display_name": "Python 3",
   "language": "python",
   "name": "python3"
  },
  "language_info": {
   "codemirror_mode": {
    "name": "ipython",
    "version": 3
   },
   "file_extension": ".py",
   "mimetype": "text/x-python",
   "name": "python",
   "nbconvert_exporter": "python",
   "pygments_lexer": "ipython3",
   "version": "3.12.1"
  }
 },
 "nbformat": 4,
 "nbformat_minor": 5
}
