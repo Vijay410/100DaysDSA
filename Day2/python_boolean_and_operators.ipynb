{
 "cells": [
  {
   "cell_type": "markdown",
   "id": "6cf9cbfb",
   "metadata": {},
   "source": [
    "## Python Booleans and Operators"
   ]
  },
  {
   "cell_type": "markdown",
   "id": "c7ac1284",
   "metadata": {},
   "source": [
    "### 🧠 1. What are Booleans?\n",
    "\n",
    "Boolean represent one of two values. True or False"
   ]
  },
  {
   "cell_type": "code",
   "execution_count": 28,
   "id": "559d4557",
   "metadata": {},
   "outputs": [
    {
     "name": "stdout",
     "output_type": "stream",
     "text": [
      "True\n",
      "False\n"
     ]
    }
   ],
   "source": [
    "# Boolean values\n",
    "a = True\n",
    "b = False\n",
    "\n",
    "print(a)   # True\n",
    "print(b)   # False"
   ]
  },
  {
   "cell_type": "markdown",
   "id": "d00fa921",
   "metadata": {},
   "source": [
    "🔍 2. bool() Function\n",
    "\n",
    "1. The bool() function is used to evaluate any value and return either True or False."
   ]
  },
  {
   "cell_type": "code",
   "execution_count": 32,
   "id": "7abe1589",
   "metadata": {},
   "outputs": [
    {
     "name": "stdout",
     "output_type": "stream",
     "text": [
      "False\n",
      "True\n",
      "True\n",
      "False\n",
      "True\n",
      "False\n",
      "True\n",
      "False\n",
      "True\n",
      "False\n",
      "True\n"
     ]
    }
   ],
   "source": [
    "# Numbers\n",
    "print(bool(0))      # Output: False\n",
    "print(bool(1))      # Output: True\n",
    "print(bool(-34))    # Output: True\n",
    "\n",
    "# Strings\n",
    "print(bool(\"\"))       # Output: False (empty string)\n",
    "print(bool(\"hello\"))  # Output: True (non-empty string)\n",
    "\n",
    "# Lists\n",
    "print(bool([]))       # Output: False\n",
    "print(bool([1, 2, 3])) # Output: True\n",
    "\n",
    "# Tuple\n",
    "print(bool(()))       # Output: False\n",
    "print(bool((1, 2, 3))) # Output: True\n",
    "\n",
    "# Dict\n",
    "print(bool({}))       # Output: False\n",
    "print(bool({\"key\":\"val\"})) # Output: True\n",
    "\n"
   ]
  },
  {
   "cell_type": "markdown",
   "id": "62152529",
   "metadata": {},
   "source": [
    "✅ Explanation:\n",
    "\n",
    "1. 0 is considered False.\n",
    "\n",
    "2. Any non-zero number (positive or negative) is True.\n",
    "\n",
    "3. Empty strings are False\n",
    "\n",
    "4. Non-empty strings are True\n",
    "\n",
    "5. Empty containers (lists, tuples, dicts) are False\n",
    "\n",
    "6. Non-empty containers are True"
   ]
  },
  {
   "cell_type": "markdown",
   "id": "04db971a",
   "metadata": {},
   "source": [
    "### 🔹 3. Comparison Operators\n",
    "\n",
    "1. These operators compare two values and return a Boolean.\n",
    "\n"
   ]
  },
  {
   "cell_type": "code",
   "execution_count": 38,
   "id": "d677cbda",
   "metadata": {},
   "outputs": [],
   "source": [
    "x = 5\n",
    "y = 10"
   ]
  },
  {
   "cell_type": "code",
   "execution_count": 39,
   "id": "52bb2c8d",
   "metadata": {},
   "outputs": [
    {
     "name": "stdout",
     "output_type": "stream",
     "text": [
      "False\n",
      "True\n",
      "False\n",
      "True\n",
      "False\n",
      "True\n"
     ]
    }
   ],
   "source": [
    "print(x == y)   # False\n",
    "print(x != y)   # True\n",
    "print(x > y)    # False\n",
    "print(x < y)    # True\n",
    "print(x >= y)   # False\n",
    "print(x <= y)   # True\n"
   ]
  },
  {
   "cell_type": "markdown",
   "id": "dbe7a6e7",
   "metadata": {},
   "source": [
    "## 🔹 4. Logical Operators\n",
    "\n",
    "Used to combine the multiple conditions"
   ]
  },
  {
   "cell_type": "code",
   "execution_count": 40,
   "id": "4afbec1c",
   "metadata": {},
   "outputs": [
    {
     "name": "stdout",
     "output_type": "stream",
     "text": [
      "True\n",
      "False\n",
      "True\n",
      "False\n",
      "False\n",
      "True\n"
     ]
    }
   ],
   "source": [
    "# AND\n",
    "print(True and True)   # Output: True\n",
    "print(True and False)  # Output: False\n",
    "\n",
    "# OR\n",
    "print(True or False)   # Output: True\n",
    "print(False or False)  # Output: False\n",
    "\n",
    "# NOT\n",
    "print(not True)        # Output: False\n",
    "print(not False)       # Output: True\n"
   ]
  },
  {
   "cell_type": "markdown",
   "id": "1d1c17af",
   "metadata": {},
   "source": [
    "#### 🔹5. Combine Logical and Comparision Operator\n",
    "\n",
    "Theas kind of mixed operators used in solving complex logic or problems in specific usecases.\n"
   ]
  },
  {
   "cell_type": "code",
   "execution_count": 41,
   "id": "f3c1966e",
   "metadata": {},
   "outputs": [
    {
     "name": "stdout",
     "output_type": "stream",
     "text": [
      "True\n",
      "True\n",
      "True\n"
     ]
    }
   ],
   "source": [
    "x = 7\n",
    "y = 4\n",
    "z = 10\n",
    "\n",
    "print(x > y and x < z)   # True → (7 > 4 and 7 < 10)\n",
    "print(x > z or y < x)    # True → (7 > 10 is False, 4 < 7 is True → True)\n",
    "print(not(x > z))        # True → x > z is False → not False = True\n"
   ]
  },
  {
   "cell_type": "markdown",
   "id": "01fdf2a8",
   "metadata": {},
   "source": [
    "## 📌 Summary\n",
    "1. bool(0)\tFalse\t❌\n",
    "2. bool(-1)\tTrue\t✅\n",
    "3. Comparison\t5 > 3\tTrue\n",
    "4. Logical and\tTrue and False\tFalse\n",
    "5. Logical or\tFalse or True\tTrue\n",
    "6. Logical not\tnot True\tFalse\n",
    "7. Empty list/string\tbool([]) / \"\"\tFalse\n",
    "8. Non-empty list/string\tbool([1]) / \"a\"\tTrue"
   ]
  }
 ],
 "metadata": {
  "kernelspec": {
   "display_name": "Python 3",
   "language": "python",
   "name": "python3"
  },
  "language_info": {
   "codemirror_mode": {
    "name": "ipython",
    "version": 3
   },
   "file_extension": ".py",
   "mimetype": "text/x-python",
   "name": "python",
   "nbconvert_exporter": "python",
   "pygments_lexer": "ipython3",
   "version": "3.12.1"
  }
 },
 "nbformat": 4,
 "nbformat_minor": 5
}
